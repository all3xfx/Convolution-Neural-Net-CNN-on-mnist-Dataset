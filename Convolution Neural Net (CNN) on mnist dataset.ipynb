{
 "cells": [
  {
   "cell_type": "code",
   "execution_count": 1,
   "metadata": {
    "collapsed": false
   },
   "outputs": [
    {
     "name": "stdout",
     "output_type": "stream",
     "text": [
      "Extracting /tmp/data/train-images-idx3-ubyte.gz\n",
      "Extracting /tmp/data/train-labels-idx1-ubyte.gz\n",
      "Extracting /tmp/data/t10k-images-idx3-ubyte.gz\n",
      "Extracting /tmp/data/t10k-labels-idx1-ubyte.gz\n"
     ]
    }
   ],
   "source": [
    "import tensorflow as tf\n",
    "from tensorflow.examples.tutorials.mnist import input_data\n",
    "\n",
    "mnist = input_data.read_data_sets(\"/tmp/data/\", one_hot=True)\n",
    "\n",
    "\n",
    "n_classes = 10\n",
    "batch_size = 128\n",
    "x = tf.placeholder('float',[None,784])\n",
    "y = tf.placeholder('float')\n"
   ]
  },
  {
   "cell_type": "code",
   "execution_count": 2,
   "metadata": {
    "collapsed": true
   },
   "outputs": [],
   "source": [
    "def conv2d(x,W):\n",
    "    return tf.nn.conv2d(x,W, strides=[1,1,1,1], padding='SAME')\n",
    "\n",
    "def maxpool2d(x):\n",
    "    return tf.nn.max_pool(x,ksize=[1,2,2,1], strides=[1,2,2,1], padding='SAME')\n"
   ]
  },
  {
   "cell_type": "code",
   "execution_count": 3,
   "metadata": {
    "collapsed": true
   },
   "outputs": [],
   "source": [
    "def convolutional_neural_network(x):\n",
    "    weights = {'W_conv1':tf.Variable(tf.random_normal([5,5,1,32])),\n",
    "               'W_conv2':tf.Variable(tf.random_normal([5,5,32,64])),\n",
    "               'W_fc':tf.Variable(tf.random_normal([7*7*64,1024])),\n",
    "               'out':tf.Variable(tf.random_normal([1024,n_classes]))}\n",
    "                      \n",
    "    biases =  {'b_conv1':tf.Variable(tf.random_normal([32])),\n",
    "               'b_conv2':tf.Variable(tf.random_normal([64])),\n",
    "               'b_fc':tf.Variable(tf.random_normal([1024])),\n",
    "               'out':tf.Variable(tf.random_normal([n_classes]))}\n",
    "               \n",
    "    x = tf.reshape(x, shape=[-1,28,28,1])\n",
    "    \n",
    "    conv1 = tf.nn.relu(conv2d(x,weights['W_conv1'])+biases['b_conv1'])\n",
    "    conv1 = maxpool2d(conv1)\n",
    "    \n",
    "    conv2 = tf.nn.relu(conv2d(conv1,weights['W_conv2'])+biases['b_conv2'])\n",
    "    conv2 = maxpool2d(conv2)\n",
    "    \n",
    "    fc = tf.reshape(conv2, [-1,7*7*64])\n",
    "    fc = tf.nn.relu(tf.matmul(fc,weights['W_fc'])+biases['b_fc'])\n",
    "    \n",
    "    output = tf.matmul(fc, weights['out'])+biases['out']\n",
    "    \n",
    "    return output"
   ]
  },
  {
   "cell_type": "code",
   "execution_count": 4,
   "metadata": {
    "collapsed": true
   },
   "outputs": [],
   "source": [
    "def train_neural_network(x):\n",
    "    prediction = convolutional_neural_network(x)\n",
    "    cost = tf.reduce_mean(tf.nn.softmax_cross_entropy_with_logits(logits = prediction,labels=y))\n",
    "    optimizer = tf.train.AdamOptimizer().minimize(cost)\n",
    "        \n",
    "    hm_epochs = 20\n",
    "    \n",
    "    with tf.Session() as sess:\n",
    "        sess.run(tf.initialize_all_variables())\n",
    "        \n",
    "        for epoch in range(hm_epochs):\n",
    "            epoch_loss = 0\n",
    "            for _ in range(int(mnist.train.num_examples/batch_size)):\n",
    "                epoch_x,epoch_y = mnist.train.next_batch(batch_size)\n",
    "                _,c = sess.run([optimizer,cost], feed_dict = {x:epoch_x,y:epoch_y})\n",
    "                epoch_loss+=c\n",
    "            print('Epoch', epoch, 'completed out of', hm_epochs,'loss',epoch_loss)\n",
    "                \n",
    "        correct = tf.equal(tf.argmax(prediction,1), tf.argmax(y,1))\n",
    "        accuracy = tf.reduce_mean(tf.cast(correct,'float'))\n",
    "        print('Accuracy:', accuracy.eval({x:mnist.test.images, y :mnist.test.labels}))\n",
    "        "
   ]
  },
  {
   "cell_type": "code",
   "execution_count": 5,
   "metadata": {
    "collapsed": false
   },
   "outputs": [
    {
     "name": "stdout",
     "output_type": "stream",
     "text": [
      "WARNING:tensorflow:From <ipython-input-4-0a92b668c81a>:9: initialize_all_variables (from tensorflow.python.ops.variables) is deprecated and will be removed after 2017-03-02.\n",
      "Instructions for updating:\n",
      "Use `tf.global_variables_initializer` instead.\n",
      "('Epoch', 0, 'completed out of', 20, 'loss', 1592872.3987426758)\n",
      "('Epoch', 1, 'completed out of', 20, 'loss', 272817.15617370605)\n",
      "('Epoch', 2, 'completed out of', 20, 'loss', 175692.16151428223)\n",
      "('Epoch', 3, 'completed out of', 20, 'loss', 117125.1330909729)\n",
      "('Epoch', 4, 'completed out of', 20, 'loss', 85499.470458984375)\n",
      "('Epoch', 5, 'completed out of', 20, 'loss', 64793.656631469727)\n",
      "('Epoch', 6, 'completed out of', 20, 'loss', 48994.600750606507)\n",
      "('Epoch', 7, 'completed out of', 20, 'loss', 38713.226399276406)\n",
      "('Epoch', 8, 'completed out of', 20, 'loss', 30105.757152333856)\n",
      "('Epoch', 9, 'completed out of', 20, 'loss', 25907.183464050293)\n",
      "('Epoch', 10, 'completed out of', 20, 'loss', 19474.237625433598)\n",
      "('Epoch', 11, 'completed out of', 20, 'loss', 16737.644833387341)\n",
      "('Epoch', 12, 'completed out of', 20, 'loss', 16893.694105414208)\n",
      "('Epoch', 13, 'completed out of', 20, 'loss', 14556.08163844794)\n",
      "('Epoch', 14, 'completed out of', 20, 'loss', 9153.939933784306)\n",
      "('Epoch', 15, 'completed out of', 20, 'loss', 12755.895959923044)\n",
      "('Epoch', 16, 'completed out of', 20, 'loss', 11585.15943813324)\n",
      "('Epoch', 17, 'completed out of', 20, 'loss', 8887.6408252716064)\n",
      "('Epoch', 18, 'completed out of', 20, 'loss', 8871.3920216076076)\n",
      "('Epoch', 19, 'completed out of', 20, 'loss', 5862.6824158816562)\n",
      "('Accuracy:', 0.98009998)\n"
     ]
    }
   ],
   "source": [
    "train_neural_network(x)"
   ]
  },
  {
   "cell_type": "code",
   "execution_count": null,
   "metadata": {
    "collapsed": true
   },
   "outputs": [],
   "source": []
  }
 ],
 "metadata": {
  "kernelspec": {
   "display_name": "Python 2",
   "language": "python",
   "name": "python2"
  },
  "language_info": {
   "codemirror_mode": {
    "name": "ipython",
    "version": 2
   },
   "file_extension": ".py",
   "mimetype": "text/x-python",
   "name": "python",
   "nbconvert_exporter": "python",
   "pygments_lexer": "ipython2",
   "version": "2.7.13"
  }
 },
 "nbformat": 4,
 "nbformat_minor": 2
}
